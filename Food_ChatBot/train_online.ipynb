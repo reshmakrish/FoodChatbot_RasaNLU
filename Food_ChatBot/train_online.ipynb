{
 "cells": [
  {
   "cell_type": "code",
   "execution_count": 6,
   "metadata": {},
   "outputs": [
    {
     "ename": "ImportError",
     "evalue": "cannot import name 'ConsoleInputChannel' from 'rasa_core.channels.console' (C:\\Users\\Lenovo-Pc\\Anaconda3_2\\envs\\rasanlu\\lib\\site-packages\\rasa_core\\channels\\console.py)",
     "output_type": "error",
     "traceback": [
      "\u001b[1;31m---------------------------------------------------------------------------\u001b[0m",
      "\u001b[1;31mImportError\u001b[0m                               Traceback (most recent call last)",
      "\u001b[1;32m<ipython-input-6-f8e69830a774>\u001b[0m in \u001b[0;36m<module>\u001b[1;34m\u001b[0m\n\u001b[0;32m      7\u001b[0m \u001b[1;33m\u001b[0m\u001b[0m\n\u001b[0;32m      8\u001b[0m \u001b[1;32mfrom\u001b[0m \u001b[0mrasa_core\u001b[0m\u001b[1;33m.\u001b[0m\u001b[0magent\u001b[0m \u001b[1;32mimport\u001b[0m \u001b[0mAgent\u001b[0m\u001b[1;33m\u001b[0m\u001b[1;33m\u001b[0m\u001b[0m\n\u001b[1;32m----> 9\u001b[1;33m \u001b[1;32mfrom\u001b[0m \u001b[0mrasa_core\u001b[0m\u001b[1;33m.\u001b[0m\u001b[0mchannels\u001b[0m\u001b[1;33m.\u001b[0m\u001b[0mconsole\u001b[0m \u001b[1;32mimport\u001b[0m \u001b[0mConsoleInputChannel\u001b[0m\u001b[1;33m\u001b[0m\u001b[1;33m\u001b[0m\u001b[0m\n\u001b[0m\u001b[0;32m     10\u001b[0m \u001b[1;32mfrom\u001b[0m \u001b[0mrasa_core\u001b[0m\u001b[1;33m.\u001b[0m\u001b[0minterpreter\u001b[0m \u001b[1;32mimport\u001b[0m \u001b[0mRegexInterpreter\u001b[0m\u001b[1;33m\u001b[0m\u001b[1;33m\u001b[0m\u001b[0m\n\u001b[0;32m     11\u001b[0m \u001b[1;32mfrom\u001b[0m \u001b[0mrasa_core\u001b[0m\u001b[1;33m.\u001b[0m\u001b[0mpolicies\u001b[0m\u001b[1;33m.\u001b[0m\u001b[0mkeras_policy\u001b[0m \u001b[1;32mimport\u001b[0m \u001b[0mKerasPolicy\u001b[0m\u001b[1;33m\u001b[0m\u001b[1;33m\u001b[0m\u001b[0m\n",
      "\u001b[1;31mImportError\u001b[0m: cannot import name 'ConsoleInputChannel' from 'rasa_core.channels.console' (C:\\Users\\Lenovo-Pc\\Anaconda3_2\\envs\\rasanlu\\lib\\site-packages\\rasa_core\\channels\\console.py)"
     ]
    }
   ],
   "source": [
    "from __future__ import absolute_import\n",
    "from __future__ import division\n",
    "from __future__ import print_function\n",
    "from __future__ import unicode_literals\n",
    "\n",
    "import logging\n",
    "\n",
    "from rasa_core.agent import Agent\n",
    "from rasa_core.channels.console import ConsoleInputChannel\n",
    "from rasa_core.interpreter import RegexInterpreter\n",
    "from rasa_core.policies.keras_policy import KerasPolicy\n",
    "from rasa_core.policies.memoization import MemoizationPolicy\n",
    "from rasa_core.interpreter import RasaNLUInterpreter\n",
    "\n",
    "logger = logging.getLogger(__name__)\n",
    "\n",
    "\n",
    "def run_weather_online(input_channel, interpreter,\n",
    "                          domain_file=\"pizza_domain.yml\",\n",
    "                          training_data_file='data/stories.md'):\n",
    "    agent = Agent(domain_file,\n",
    "                  policies=[MemoizationPolicy(), KerasPolicy()],\n",
    "                  interpreter=interpreter)\n",
    "\n",
    "    agent.train_online(training_data_file,\n",
    "                       input_channel=input_channel,\n",
    "                       max_history=2,\n",
    "                       batch_size=50,\n",
    "                       epochs=200,\n",
    "                       max_training_samples=300)\n",
    "\n",
    "    return agent\n",
    "\n",
    "\n",
    "if __name__ == '__main__':\n",
    "    logging.basicConfig(level=\"INFO\")\n",
    "    nlu_interpreter = RasaNLUInterpreter('./models/nlu/default/pizzanlu')\n",
    "    run_weather_online(ConsoleInputChannel(), nlu_interpreter)"
   ]
  },
  {
   "cell_type": "code",
   "execution_count": 15,
   "metadata": {},
   "outputs": [
    {
     "ename": "SyntaxError",
     "evalue": "from __future__ imports must occur at the beginning of the file (<ipython-input-15-5b6dbd34997e>, line 4)",
     "output_type": "error",
     "traceback": [
      "\u001b[1;36m  File \u001b[1;32m\"<ipython-input-15-5b6dbd34997e>\"\u001b[1;36m, line \u001b[1;32m4\u001b[0m\n\u001b[1;33m    from __future__ import unicode_literals\u001b[0m\n\u001b[1;37m           ^\u001b[0m\n\u001b[1;31mSyntaxError\u001b[0m\u001b[1;31m:\u001b[0m from __future__ imports must occur at the beginning of the file\n"
     ]
    }
   ],
   "source": [
    "from __future__ import absolute_import\n",
    "from __future__ import division\n",
    "from __future__ import print_function\n",
    "from __future__ import unicode_literals\n",
    "\n",
    "import logging\n",
    "\n",
    "from rasa_core.agent import Agent\n",
    "from rasa_core.policies.keras_policy import KerasPolicy \n",
    "from rasa_core.policies.memoization import MemoizationPolicy\n",
    "from rasa_core.interpreter import RasaNLUInterpreter \n",
    "from rasa_core.train import online \n",
    "from rasa_core.utils import EndpointConfig\n",
    "\n",
    "logger = logging.getLogger(name)\n",
    "\n",
    "def run_weather_online(interpreter, domain_file=\"pizza_domain.yml\", training_data_file=\"data/stories.md\"): \n",
    "    action_endpoint = EndpointConfig(url=\"http://localhost:5055/webhook\") \n",
    "    agent = Agent(domain_file, policies=[MemoizationPolicy(max_history=2), KerasPolicy()], interpreter=interpreter, action_endpoint=action_endpoint)\n",
    "\n",
    "data = agent.load_data(training_data_file)\n",
    "agent.train(data,\n",
    "                   batch_size=50,\n",
    "                   epochs=200,\n",
    "                   max_training_samples=300)\n",
    "online.run_online_learning(agent)\n",
    "return agent\n",
    "\n",
    "if name == \"main\": \n",
    "    logging.basicConfig(level=\"INFO\") \n",
    "    nlu_interpreter = RasaNLUInterpreter('app/models/nlu') \n",
    "    run_weather_online(nlu_interpreter)"
   ]
  },
  {
   "cell_type": "code",
   "execution_count": null,
   "metadata": {},
   "outputs": [],
   "source": []
  }
 ],
 "metadata": {
  "kernelspec": {
   "display_name": "Python 3",
   "language": "python",
   "name": "python3"
  },
  "language_info": {
   "codemirror_mode": {
    "name": "ipython",
    "version": 3
   },
   "file_extension": ".py",
   "mimetype": "text/x-python",
   "name": "python",
   "nbconvert_exporter": "python",
   "pygments_lexer": "ipython3",
   "version": "3.7.2"
  }
 },
 "nbformat": 4,
 "nbformat_minor": 2
}
